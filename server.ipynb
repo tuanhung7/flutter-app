{
 "cells": [
  {
   "cell_type": "code",
   "execution_count": null,
   "id": "86ad5f30",
   "metadata": {},
   "outputs": [],
   "source": [
    "!pip install flask"
   ]
  },
  {
   "cell_type": "code",
   "execution_count": null,
   "id": "3da3d840",
   "metadata": {},
   "outputs": [],
   "source": [
    "!pip install pyngrok"
   ]
  },
  {
   "cell_type": "code",
   "execution_count": null,
   "id": "f56a8d43",
   "metadata": {},
   "outputs": [],
   "source": [
    "!pip install -U flask-cors"
   ]
  },
  {
   "cell_type": "code",
   "execution_count": 1,
   "id": "97aff789",
   "metadata": {},
   "outputs": [
    {
     "name": "stderr",
     "output_type": "stream",
     "text": [
      "'apt' is not recognized as an internal or external command,\n",
      "operable program or batch file.\n",
      "'sudo' is not recognized as an internal or external command,\n",
      "operable program or batch file.\n",
      "'sudo' is not recognized as an internal or external command,\n",
      "operable program or batch file.\n",
      "'sudo' is not recognized as an internal or external command,\n",
      "operable program or batch file.\n"
     ]
    },
    {
     "name": "stdout",
     "output_type": "stream",
     "text": [
      "Collecting pytesseract\n",
      "  Using cached pytesseract-0.3.10-py3-none-any.whl (14 kB)\n",
      "Requirement already satisfied: packaging>=21.3 in c:\\users\\hp\\appdata\\local\\packages\\pythonsoftwarefoundation.python.3.10_qbz5n2kfra8p0\\localcache\\local-packages\\python310\\site-packages (from pytesseract) (21.3)\n",
      "Requirement already satisfied: Pillow>=8.0.0 in c:\\users\\hp\\appdata\\local\\packages\\pythonsoftwarefoundation.python.3.10_qbz5n2kfra8p0\\localcache\\local-packages\\python310\\site-packages (from pytesseract) (9.2.0)\n",
      "Requirement already satisfied: pyparsing!=3.0.5,>=2.0.2 in c:\\users\\hp\\appdata\\local\\packages\\pythonsoftwarefoundation.python.3.10_qbz5n2kfra8p0\\localcache\\local-packages\\python310\\site-packages (from packaging>=21.3->pytesseract) (3.0.9)\n",
      "Installing collected packages: pytesseract\n",
      "Successfully installed pytesseract-0.3.10\n"
     ]
    },
    {
     "name": "stderr",
     "output_type": "stream",
     "text": [
      "\n",
      "[notice] A new release of pip available: 22.3 -> 23.0.1\n",
      "[notice] To update, run: C:\\Users\\HP\\AppData\\Local\\Microsoft\\WindowsApps\\PythonSoftwareFoundation.Python.3.10_qbz5n2kfra8p0\\python.exe -m pip install --upgrade pip\n"
     ]
    }
   ],
   "source": [
    "!apt install tesseract-ocr\n",
    "!sudo apt install libleptonica-dev\n",
    "!sudo apt install libtesseract-dev\n",
    "!sudo apt install tesseract-ocr-vie\n",
    "!pip install pytesseract"
   ]
  },
  {
   "cell_type": "code",
   "execution_count": 2,
   "id": "0e3c5af4",
   "metadata": {},
   "outputs": [
    {
     "name": "stdout",
     "output_type": "stream",
     "text": [
      "Collecting opencv-python"
     ]
    },
    {
     "name": "stderr",
     "output_type": "stream",
     "text": [
      "\n",
      "[notice] A new release of pip available: 22.3 -> 23.0.1\n",
      "[notice] To update, run: C:\\Users\\HP\\AppData\\Local\\Microsoft\\WindowsApps\\PythonSoftwareFoundation.Python.3.10_qbz5n2kfra8p0\\python.exe -m pip install --upgrade pip\n"
     ]
    },
    {
     "name": "stdout",
     "output_type": "stream",
     "text": [
      "\n",
      "  Downloading opencv_python-4.7.0.72-cp37-abi3-win_amd64.whl (38.2 MB)\n",
      "     --------------------------------------- 38.2/38.2 MB 24.2 MB/s eta 0:00:00\n",
      "Requirement already satisfied: numpy>=1.21.2 in c:\\users\\hp\\appdata\\local\\packages\\pythonsoftwarefoundation.python.3.10_qbz5n2kfra8p0\\localcache\\local-packages\\python310\\site-packages (from opencv-python) (1.23.3)\n",
      "Installing collected packages: opencv-python\n",
      "Successfully installed opencv-python-4.7.0.72\n"
     ]
    }
   ],
   "source": [
    "!pip install opencv-python"
   ]
  },
  {
   "cell_type": "code",
   "execution_count": 5,
   "id": "e9449e20",
   "metadata": {},
   "outputs": [],
   "source": [
    "!mkdir \"uploadimages\"\n",
    "!mkdir \"preprocessing\"\n",
    "!mkdir \"final\""
   ]
  },
  {
   "cell_type": "code",
   "execution_count": 1,
   "id": "2130561c",
   "metadata": {},
   "outputs": [
    {
     "name": "stdout",
     "output_type": "stream",
     "text": [
      "link http://ad48-2402-800-6294-ff97-dd8d-bc46-c724-c1b.ngrok.io\n",
      " * Serving Flask app '__main__'\n",
      " * Debug mode: off\n"
     ]
    },
    {
     "name": "stderr",
     "output_type": "stream",
     "text": [
      "WARNING: This is a development server. Do not use it in a production deployment. Use a production WSGI server instead.\n",
      " * Running on all addresses (0.0.0.0)\n",
      " * Running on http://127.0.0.1:5000\n",
      " * Running on http://192.168.1.139:5000\n",
      "Press CTRL+C to quit\n",
      "127.0.0.1 - - [21/Mar/2023 19:47:19] \"POST /upload-image HTTP/1.1\" 200 -\n"
     ]
    },
    {
     "name": "stdout",
     "output_type": "stream",
     "text": [
      "{'result': '1¡ RIPRATINE 10MG (Levocetirizine)\\nUống, ,, Tối 1 Viên\\n2 A.TZINC 70MG (Kếm gluconat)\\nUống, , , Sáng 1 Viên, Tối 1 Viên\\n3 VITAMINPP 500MG (Vitamin PP)\\n. Uống, ,, Sáng 1 Viên, Tối 1 Viên\\n4 DERMOVATE CREAM 0,05% 15G (Clobetasol propionat)\\nDùng ngoài, › , Tối 1 lần\\n'}\n"
     ]
    },
    {
     "name": "stderr",
     "output_type": "stream",
     "text": [
      "127.0.0.1 - - [21/Mar/2023 19:55:13] \"POST /upload-image HTTP/1.1\" 200 -\n"
     ]
    },
    {
     "name": "stdout",
     "output_type": "stream",
     "text": [
      "{'result': '1¡ RIPRATINE 10MG (Levocetirizine)\\nUống, ,, Tối 1 Viên\\n2 A.TZINC 70MG (Kếm gluconat)\\nUống, , , Sáng 1 Viên, Tối 1 Viên\\n3 VITAMINPP 500MG (Vitamin PP)\\n. Uống, ,, Sáng 1 Viên, Tối 1 Viên\\n4 DERMOVATE CREAM 0,05% 15G (Clobetasol propionat)\\nDùng ngoài, › , Tối 1 lần\\n'}\n"
     ]
    }
   ],
   "source": [
    "from flask import Flask, request, jsonify\n",
    "from PIL import Image\n",
    "import base64\n",
    "from pyngrok import ngrok\n",
    "import pytesseract\n",
    "import json\n",
    "from flask_cors import CORS\n",
    "import cv2\n",
    "import numpy as np\n",
    "from io import BytesIO\n",
    "\n",
    "app = Flask(__name__)\n",
    "# CORS(app) # thêm dòng này để enable CORS cho tất cả các route\n",
    "# CORS(app, origins='*')\n",
    "CORS(app, resources={r\"/*\": {\"origins\": \"*\"}}, methods={\"GET\"})\n",
    "\n",
    "\n",
    "port_no = 5000\n",
    "ngrok.set_auth_token(\"2Mx58C9YQfaH6GkAZIhxbytjKO6_4g1ymgJBg1JKNXqf4ScED\")\n",
    "public_url = ngrok.connect(port_no).public_url\n",
    "\n",
    "\n",
    "@app.route('/upload-image', methods=['POST'])\n",
    "def upload_image():\n",
    "\n",
    "    file_str = request.form['image']\n",
    "    image_bytes = base64.b64decode(file_str)\n",
    "    image_re = Image.open(BytesIO(image_bytes))\n",
    "    with open('uploadimages/image.jpg', 'wb') as f:\n",
    "        f.write(base64.b64decode(file_str))\n",
    "    pytesseract.pytesseract.tesseract_cmd = r'C:\\Program Files\\Tesseract-OCR\\tesseract.exe'\n",
    "    result = pytesseract.image_to_string(image_re, lang='vie')\n",
    "    response = {'result': result}\n",
    "    print(response)\n",
    "    return jsonify(response), 200\n",
    "\n",
    "print(f\"link {public_url}\")\n",
    "\n",
    "if __name__ == '__main__':\n",
    "    app.run(host='0.0.0.0', port=5000)"
   ]
  },
  {
   "attachments": {},
   "cell_type": "markdown",
   "id": "85f62566",
   "metadata": {},
   "source": [
    "\"description\": \"eqwe\",\n",
    "\"name\": \"eqaa\",\n",
    "\"quantity\": 10,\n",
    "\"usage\": {\n",
    "    \"Sang\": {\n",
    "        \"quantity\": 1,\n",
    "        \"time\": 1672531200\n",
    "    },\n",
    "    \"Toi\": {\n",
    "        \"quantity\": 3,\n",
    "        \"time\": 1672531200\n",
    "    },\n",
    "    \"Trua\": {\n",
    "        \"quantity\": 2,\n",
    "        \"time\": 1672531200\n",
    "    }\n",
    "}"
   ]
  }
 ],
 "metadata": {
  "kernelspec": {
   "display_name": "Python 3 (ipykernel)",
   "language": "python",
   "name": "python3"
  },
  "language_info": {
   "codemirror_mode": {
    "name": "ipython",
    "version": 3
   },
   "file_extension": ".py",
   "mimetype": "text/x-python",
   "name": "python",
   "nbconvert_exporter": "python",
   "pygments_lexer": "ipython3",
   "version": "3.10.10"
  }
 },
 "nbformat": 4,
 "nbformat_minor": 5
}
